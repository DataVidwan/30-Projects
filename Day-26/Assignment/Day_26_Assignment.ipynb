{
  "cells": [
    {
      "cell_type": "code",
      "execution_count": null,
      "metadata": {
        "colab": {
          "base_uri": "https://localhost:8080/"
        },
        "id": "UQLwQAn_TQc3",
        "outputId": "e5fa907a-d3da-4aa3-93ac-abe1b43c3ffc"
      },
      "outputs": [
        {
          "name": "stdout",
          "output_type": "stream",
          "text": [
            "Requirement already satisfied: python-telegram-bot in /usr/local/lib/python3.11/dist-packages (22.0)\n",
            "Requirement already satisfied: gspread in /usr/local/lib/python3.11/dist-packages (6.2.0)\n",
            "Requirement already satisfied: oauth2client in /usr/local/lib/python3.11/dist-packages (4.1.3)\n",
            "Requirement already satisfied: httpx~=0.27 in /usr/local/lib/python3.11/dist-packages (from python-telegram-bot) (0.28.1)\n",
            "Requirement already satisfied: google-auth>=1.12.0 in /usr/local/lib/python3.11/dist-packages (from gspread) (2.38.0)\n",
            "Requirement already satisfied: google-auth-oauthlib>=0.4.1 in /usr/local/lib/python3.11/dist-packages (from gspread) (1.2.2)\n",
            "Requirement already satisfied: httplib2>=0.9.1 in /usr/local/lib/python3.11/dist-packages (from oauth2client) (0.22.0)\n",
            "Requirement already satisfied: pyasn1>=0.1.7 in /usr/local/lib/python3.11/dist-packages (from oauth2client) (0.6.1)\n",
            "Requirement already satisfied: pyasn1-modules>=0.0.5 in /usr/local/lib/python3.11/dist-packages (from oauth2client) (0.4.2)\n",
            "Requirement already satisfied: rsa>=3.1.4 in /usr/local/lib/python3.11/dist-packages (from oauth2client) (4.9.1)\n",
            "Requirement already satisfied: six>=1.6.1 in /usr/local/lib/python3.11/dist-packages (from oauth2client) (1.17.0)\n",
            "Requirement already satisfied: cachetools<6.0,>=2.0.0 in /usr/local/lib/python3.11/dist-packages (from google-auth>=1.12.0->gspread) (5.5.2)\n",
            "Requirement already satisfied: requests-oauthlib>=0.7.0 in /usr/local/lib/python3.11/dist-packages (from google-auth-oauthlib>=0.4.1->gspread) (2.0.0)\n",
            "Requirement already satisfied: pyparsing!=3.0.0,!=3.0.1,!=3.0.2,!=3.0.3,<4,>=2.4.2 in /usr/local/lib/python3.11/dist-packages (from httplib2>=0.9.1->oauth2client) (3.2.3)\n",
            "Requirement already satisfied: anyio in /usr/local/lib/python3.11/dist-packages (from httpx~=0.27->python-telegram-bot) (4.9.0)\n",
            "Requirement already satisfied: certifi in /usr/local/lib/python3.11/dist-packages (from httpx~=0.27->python-telegram-bot) (2025.1.31)\n",
            "Requirement already satisfied: httpcore==1.* in /usr/local/lib/python3.11/dist-packages (from httpx~=0.27->python-telegram-bot) (1.0.9)\n",
            "Requirement already satisfied: idna in /usr/local/lib/python3.11/dist-packages (from httpx~=0.27->python-telegram-bot) (3.10)\n",
            "Requirement already satisfied: h11>=0.16 in /usr/local/lib/python3.11/dist-packages (from httpcore==1.*->httpx~=0.27->python-telegram-bot) (0.16.0)\n",
            "Requirement already satisfied: oauthlib>=3.0.0 in /usr/local/lib/python3.11/dist-packages (from requests-oauthlib>=0.7.0->google-auth-oauthlib>=0.4.1->gspread) (3.2.2)\n",
            "Requirement already satisfied: requests>=2.0.0 in /usr/local/lib/python3.11/dist-packages (from requests-oauthlib>=0.7.0->google-auth-oauthlib>=0.4.1->gspread) (2.32.3)\n",
            "Requirement already satisfied: sniffio>=1.1 in /usr/local/lib/python3.11/dist-packages (from anyio->httpx~=0.27->python-telegram-bot) (1.3.1)\n",
            "Requirement already satisfied: typing_extensions>=4.5 in /usr/local/lib/python3.11/dist-packages (from anyio->httpx~=0.27->python-telegram-bot) (4.13.2)\n",
            "Requirement already satisfied: charset-normalizer<4,>=2 in /usr/local/lib/python3.11/dist-packages (from requests>=2.0.0->requests-oauthlib>=0.7.0->google-auth-oauthlib>=0.4.1->gspread) (3.4.1)\n",
            "Requirement already satisfied: urllib3<3,>=1.21.1 in /usr/local/lib/python3.11/dist-packages (from requests>=2.0.0->requests-oauthlib>=0.7.0->google-auth-oauthlib>=0.4.1->gspread) (2.4.0)\n"
          ]
        }
      ],
      "source": [
        "!pip install python-telegram-bot gspread oauth2client\n"
      ]
    },
    {
      "cell_type": "code",
      "execution_count": null,
      "metadata": {
        "colab": {
          "base_uri": "https://localhost:8080/"
        },
        "id": "KxH7xRo3dyNw",
        "outputId": "7898fac2-03cc-4271-fed5-a8c26695eff2"
      },
      "outputs": [
        {
          "name": "stdout",
          "output_type": "stream",
          "text": [
            "Requirement already satisfied: nest_asyncio in /usr/local/lib/python3.11/dist-packages (1.6.0)\n"
          ]
        }
      ],
      "source": [
        "!pip install nest_asyncio\n"
      ]
    },
    {
      "cell_type": "code",
      "execution_count": null,
      "metadata": {
        "colab": {
          "base_uri": "https://localhost:8080/"
        },
        "id": "a4IEsVRZiBMd",
        "outputId": "454aacfc-bcc3-41c2-d6ae-bd8bd4fca48d"
      },
      "outputs": [
        {
          "name": "stdout",
          "output_type": "stream",
          "text": [
            "Requirement already satisfied: python-telegram-bot in /usr/local/lib/python3.11/dist-packages (22.0)\n",
            "Requirement already satisfied: httpx~=0.27 in /usr/local/lib/python3.11/dist-packages (from python-telegram-bot) (0.28.1)\n",
            "Requirement already satisfied: anyio in /usr/local/lib/python3.11/dist-packages (from httpx~=0.27->python-telegram-bot) (4.9.0)\n",
            "Requirement already satisfied: certifi in /usr/local/lib/python3.11/dist-packages (from httpx~=0.27->python-telegram-bot) (2025.1.31)\n",
            "Requirement already satisfied: httpcore==1.* in /usr/local/lib/python3.11/dist-packages (from httpx~=0.27->python-telegram-bot) (1.0.9)\n",
            "Requirement already satisfied: idna in /usr/local/lib/python3.11/dist-packages (from httpx~=0.27->python-telegram-bot) (3.10)\n",
            "Requirement already satisfied: h11>=0.16 in /usr/local/lib/python3.11/dist-packages (from httpcore==1.*->httpx~=0.27->python-telegram-bot) (0.16.0)\n",
            "Requirement already satisfied: sniffio>=1.1 in /usr/local/lib/python3.11/dist-packages (from anyio->httpx~=0.27->python-telegram-bot) (1.3.1)\n",
            "Requirement already satisfied: typing_extensions>=4.5 in /usr/local/lib/python3.11/dist-packages (from anyio->httpx~=0.27->python-telegram-bot) (4.13.2)\n"
          ]
        }
      ],
      "source": [
        "!pip install python-telegram-bot --upgrade\n"
      ]
    },
    {
      "cell_type": "code",
      "execution_count": null,
      "metadata": {
        "colab": {
          "background_save": true,
          "base_uri": "https://localhost:8080/"
        },
        "id": "9Wx9XIcmmY5v",
        "outputId": "75c54f0d-6800-4aab-a464-11a1e90213ec"
      },
      "outputs": [
        {
          "name": "stdout",
          "output_type": "stream",
          "text": [
            "🤖 Bot is running...\n"
          ]
        }
      ],
      "source": [
        "# Install packages (run once in Colab)\n",
        "# !pip install gspread oauth2client python-telegram-bot nest_asyncio\n",
        "\n",
        "import gspread\n",
        "from oauth2client.service_account import ServiceAccountCredentials\n",
        "from telegram import Update\n",
        "from telegram.ext import ApplicationBuilder, CommandHandler, MessageHandler, ContextTypes, filters\n",
        "import nest_asyncio\n",
        "\n",
        "# Enable asyncio inside Colab\n",
        "nest_asyncio.apply()\n",
        "\n",
        "# === GOOGLE SHEETS SETUP ===\n",
        "scope = [\"https://spreadsheets.google.com/feeds\", \"https://www.googleapis.com/auth/drive\"]\n",
        "creds = ServiceAccountCredentials.from_json_keyfile_name(\"/content/credentials.json\", scope)\n",
        "client = gspread.authorize(creds)\n",
        "sheet = client.open_by_key(\"1lfiFzG_xoniU9NcCLK3GQjPgDjW-pOcPv1EluCIVCvo\").sheet1  # Replace with your sheet ID\n",
        "\n",
        "# === BOT COMMANDS ===\n",
        "\n",
        "# /start command\n",
        "async def start(update: Update, context: ContextTypes.DEFAULT_TYPE):\n",
        "    await update.message.reply_text(\n",
        "        \"Hi! 👋\\n\"\n",
        "        \"Use this format to add an expense:\\n\"\n",
        "        \"`Add: Brand, Description, Price, Size, Volume, Classification, PurchasePrice, VendorNumber, VendorName`\\n\\n\"\n",
        "        \"To delete a row, use:\\n\"\n",
        "        \"`Delete: BrandName`\",\n",
        "        parse_mode=\"Markdown\"\n",
        "    )\n",
        "\n",
        "# Handle Add and Delete\n",
        "# Handle Add and Delete\n",
        "async def handle_message(update: Update, context: ContextTypes.DEFAULT_TYPE):\n",
        "    text = update.message.text.strip()\n",
        "\n",
        "    if text.lower().startswith(\"add:\"):\n",
        "        try:\n",
        "            parts = text[4:].split(\",\")\n",
        "            if len(parts) != 9:\n",
        "                await update.message.reply_text(\"❌ Please provide exactly 9 values separated by commas.\")\n",
        "                return\n",
        "            row = [p.strip() for p in parts]\n",
        "            sheet.append_row(row)\n",
        "            await update.message.reply_text(\"✅ Expense added successfully!\")\n",
        "        except Exception as e:\n",
        "            await update.message.reply_text(f\"⚠️ Error: {str(e)}\")\n",
        "\n",
        "    elif text.lower().startswith(\"delete:\"):\n",
        "        try:\n",
        "            brand_to_delete = text[7:].strip().lower()\n",
        "            all_rows = sheet.get_all_values()\n",
        "\n",
        "            # Skip header (index 0)\n",
        "            for i in range(1, len(all_rows)):\n",
        "                row = all_rows[i]\n",
        "                if row and row[0].strip().lower() == brand_to_delete:\n",
        "                    sheet.delete_rows(i + 1)  # delete row at index i + 1\n",
        "                    await update.message.reply_text(f\"✅ Row with brand '{row[0]}' deleted.\")\n",
        "                    return\n",
        "\n",
        "            await update.message.reply_text(f\"❌ Brand '{brand_to_delete}' not found.\")\n",
        "\n",
        "        except Exception as e:\n",
        "            await update.message.reply_text(f\"⚠️ Error: {str(e)}\")\n",
        "\n",
        "    else:\n",
        "        await update.message.reply_text(\"❓ Unknown format. Use /start for help.\")\n",
        "\n",
        "\n",
        "# === MAIN FUNCTION TO START BOT ===\n",
        "async def main():\n",
        "    bot_token = \"7415877681:AAErMIs6n0D-Sr235oRcIEL7x7j2GKPJCu8\"  # Replace with your real token\n",
        "    app = ApplicationBuilder().token(bot_token).build()\n",
        "    app.add_handler(CommandHandler(\"start\", start))\n",
        "    app.add_handler(MessageHandler(filters.TEXT & ~filters.COMMAND, handle_message))\n",
        "\n",
        "    print(\"🤖 Bot is running...\")\n",
        "    await app.run_polling()\n",
        "\n",
        "# === RUN THE BOT ===\n",
        "await main()\n"
      ]
    },
    {
      "cell_type": "code",
      "execution_count": null,
      "metadata": {
        "id": "GQmwq6eizRg6"
      },
      "outputs": [],
      "source": []
    }
  ],
  "metadata": {
    "accelerator": "GPU",
    "colab": {
      "gpuType": "T4",
      "provenance": []
    },
    "kernelspec": {
      "display_name": "Python 3",
      "name": "python3"
    },
    "language_info": {
      "name": "python"
    }
  },
  "nbformat": 4,
  "nbformat_minor": 0
}