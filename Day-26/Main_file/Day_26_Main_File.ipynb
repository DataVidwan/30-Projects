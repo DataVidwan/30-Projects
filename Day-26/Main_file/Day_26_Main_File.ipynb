{
 "cells": [
  {
   "cell_type": "code",
   "execution_count": 1,
   "id": "1a98462c-9166-4046-9d49-418ef5f9ec29",
   "metadata": {},
   "outputs": [],
   "source": [
    "import pandas as pd\n",
    "import smtplib\n",
    "import time\n",
    "from email.mime.text import MIMEText\n",
    "import threading\n"
   ]
  },
  {
   "cell_type": "code",
   "execution_count": 2,
   "id": "a20d2b9c-343d-4669-bafe-a0709fe971b4",
   "metadata": {},
   "outputs": [],
   "source": [
    "# Google Sheet CSV link (from publish to web)\n",
    "CSV_URL = \"https://docs.google.com/spreadsheets/d/e/2PACX-1vRJekzWK645i0iAjs4s1pS6vnExHsOnrSGBXnA7EjUbm3w7-rCFPdqvhqJ8IO9xjykBSV40WR05pDZU/pub?output=csv\"\n",
    "\n",
    "# Email config\n",
    "GMAIL_USER = \"fake.avidedania@gmail.com\"\n",
    "GMAIL_PASSWORD = \"umrp bjbu bsul dhgy\"\n",
    "TO_EMAIL = \"social.avidedania@gmail.com\"\n"
   ]
  },
  {
   "cell_type": "code",
   "execution_count": 3,
   "id": "6a8db74e-54b1-4b11-a26b-7abdada48c7f",
   "metadata": {},
   "outputs": [],
   "source": [
    "def send_email_notification(subject, body):\n",
    "    msg = MIMEText(body)\n",
    "    msg['Subject'] = subject\n",
    "    msg['From'] = GMAIL_USER\n",
    "    msg['To'] = TO_EMAIL\n",
    "\n",
    "    try:\n",
    "        with smtplib.SMTP('smtp.gmail.com', 587) as server:\n",
    "            server.starttls()\n",
    "            server.login(GMAIL_USER, GMAIL_PASSWORD)\n",
    "            server.sendmail(GMAIL_USER, TO_EMAIL, msg.as_string())\n",
    "        print(\"✅ Email sent!\")\n",
    "    except Exception as e:\n",
    "        print(\"❌ Email failed:\", e)\n"
   ]
  },
  {
   "cell_type": "code",
   "execution_count": 4,
   "id": "24b9683c-1bfa-4b47-9983-e2d1b8ee2c9f",
   "metadata": {},
   "outputs": [],
   "source": [
    "def get_sheet_row_count():\n",
    "    try:\n",
    "        df = pd.read_csv(CSV_URL)\n",
    "        return len(df), df\n",
    "    except Exception as e:\n",
    "        print(\"❌ Failed to read sheet:\", e)\n",
    "        return -1, None\n"
   ]
  },
  {
   "cell_type": "code",
   "execution_count": 5,
   "id": "084fbac5-b200-429a-b2da-21bef565d5ce",
   "metadata": {},
   "outputs": [
    {
     "name": "stdout",
     "output_type": "stream",
     "text": [
      "Initial rows: 12250\n"
     ]
    }
   ],
   "source": [
    "prev_count, prev_df = get_sheet_row_count()\n",
    "print(f\"Initial rows: {prev_count}\")\n",
    "\n",
    "def monitor_sheet(interval=10):\n",
    "    global prev_count, prev_df\n",
    "    print(\"🔍 Monitoring started... Press Stop in Jupyter to interrupt.\")\n",
    "    try:\n",
    "        while True:\n",
    "            time.sleep(interval)\n",
    "            curr_count, curr_df = get_sheet_row_count()\n",
    "\n",
    "            if curr_count != prev_count:\n",
    "                if curr_count > prev_count:\n",
    "                    # A row was added\n",
    "                    added_row = curr_df.iloc[-1]  # Assume new row is at the end\n",
    "                    subject = \"🚨 Row Added\"\n",
    "                    body = f\"A new row was added:\\n\\n{added_row.to_string()}\"\n",
    "                    send_email_notification(subject, body)\n",
    "\n",
    "                elif curr_count < prev_count:\n",
    "                    # A row was removed\n",
    "                    removed_rows = prev_df[~prev_df.apply(tuple, 1).isin(curr_df.apply(tuple, 1))]\n",
    "                    if not removed_rows.empty:\n",
    "                        subject = \"⚠️ Row Removed\"\n",
    "                        body = f\"A row was removed:\\n\\n{removed_rows.iloc[0].to_string()}\"\n",
    "                        send_email_notification(subject, body)\n",
    "\n",
    "                prev_count, prev_df = curr_count, curr_df\n",
    "    except KeyboardInterrupt:\n",
    "        print(\"⛔ Monitoring stopped manually.\")\n"
   ]
  },
  {
   "cell_type": "code",
   "execution_count": 6,
   "id": "e647f7dd-7d6d-4dce-83ca-ec3d564f3538",
   "metadata": {},
   "outputs": [
    {
     "name": "stdout",
     "output_type": "stream",
     "text": [
      "🔍 Monitoring started... Press Stop in Jupyter to interrupt.\n",
      "✅ Email sent!\n",
      "✅ Email sent!\n",
      "✅ Email sent!\n",
      "✅ Email sent!\n",
      "✅ Email sent!\n",
      "✅ Email sent!\n",
      "✅ Email sent!\n",
      "✅ Email sent!\n"
     ]
    }
   ],
   "source": [
    "thread = threading.Thread(target=monitor_sheet)\n",
    "thread.start()\n"
   ]
  },
  {
   "cell_type": "code",
   "execution_count": null,
   "id": "ad6ad154-03c9-4cea-9b71-3cc7d6c46779",
   "metadata": {},
   "outputs": [],
   "source": []
  }
 ],
 "metadata": {
  "kernelspec": {
   "display_name": "Python 3 (ipykernel)",
   "language": "python",
   "name": "python3"
  },
  "language_info": {
   "codemirror_mode": {
    "name": "ipython",
    "version": 3
   },
   "file_extension": ".py",
   "mimetype": "text/x-python",
   "name": "python",
   "nbconvert_exporter": "python",
   "pygments_lexer": "ipython3",
   "version": "3.12.7"
  }
 },
 "nbformat": 4,
 "nbformat_minor": 5
}
