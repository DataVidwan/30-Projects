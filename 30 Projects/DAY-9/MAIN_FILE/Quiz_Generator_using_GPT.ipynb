{
  "cells": [
    {
      "cell_type": "code",
      "execution_count": 18,
      "metadata": {
        "colab": {
          "base_uri": "https://localhost:8080/"
        },
        "id": "jny0CMvJjf8u",
        "outputId": "f1b54217-6ea7-448d-b0fa-87e4d1ad88c9"
      },
      "outputs": [
        {
          "name": "stdout",
          "output_type": "stream",
          "text": [
            "Requirement already satisfied: openai in /usr/local/lib/python3.11/dist-packages (1.75.0)\n",
            "Requirement already satisfied: anyio<5,>=3.5.0 in /usr/local/lib/python3.11/dist-packages (from openai) (4.9.0)\n",
            "Requirement already satisfied: distro<2,>=1.7.0 in /usr/local/lib/python3.11/dist-packages (from openai) (1.9.0)\n",
            "Requirement already satisfied: httpx<1,>=0.23.0 in /usr/local/lib/python3.11/dist-packages (from openai) (0.28.1)\n",
            "Requirement already satisfied: jiter<1,>=0.4.0 in /usr/local/lib/python3.11/dist-packages (from openai) (0.9.0)\n",
            "Requirement already satisfied: pydantic<3,>=1.9.0 in /usr/local/lib/python3.11/dist-packages (from openai) (2.11.3)\n",
            "Requirement already satisfied: sniffio in /usr/local/lib/python3.11/dist-packages (from openai) (1.3.1)\n",
            "Requirement already satisfied: tqdm>4 in /usr/local/lib/python3.11/dist-packages (from openai) (4.67.1)\n",
            "Requirement already satisfied: typing-extensions<5,>=4.11 in /usr/local/lib/python3.11/dist-packages (from openai) (4.13.2)\n",
            "Requirement already satisfied: idna>=2.8 in /usr/local/lib/python3.11/dist-packages (from anyio<5,>=3.5.0->openai) (3.10)\n",
            "Requirement already satisfied: certifi in /usr/local/lib/python3.11/dist-packages (from httpx<1,>=0.23.0->openai) (2025.1.31)\n",
            "Requirement already satisfied: httpcore==1.* in /usr/local/lib/python3.11/dist-packages (from httpx<1,>=0.23.0->openai) (1.0.8)\n",
            "Requirement already satisfied: h11<0.15,>=0.13 in /usr/local/lib/python3.11/dist-packages (from httpcore==1.*->httpx<1,>=0.23.0->openai) (0.14.0)\n",
            "Requirement already satisfied: annotated-types>=0.6.0 in /usr/local/lib/python3.11/dist-packages (from pydantic<3,>=1.9.0->openai) (0.7.0)\n",
            "Requirement already satisfied: pydantic-core==2.33.1 in /usr/local/lib/python3.11/dist-packages (from pydantic<3,>=1.9.0->openai) (2.33.1)\n",
            "Requirement already satisfied: typing-inspection>=0.4.0 in /usr/local/lib/python3.11/dist-packages (from pydantic<3,>=1.9.0->openai) (0.4.0)\n"
          ]
        }
      ],
      "source": [
        "!pip install openai\n"
      ]
    },
    {
      "cell_type": "code",
      "execution_count": null,
      "metadata": {
        "id": "R55864SwjhhM"
      },
      "outputs": [],
      "source": [
        "from openai import OpenAI\n",
        "import json\n",
        "\n",
        "# 🔐 Paste your OpenAI API key here\n",
        "client = OpenAI(api_key=\"Paste here key\")  # Replace with your own key\n"
      ]
    },
    {
      "cell_type": "code",
      "execution_count": 21,
      "metadata": {
        "id": "SUkjPZAJjo8s"
      },
      "outputs": [],
      "source": [
        "def generate_quiz_gpt(topic, num_questions):\n",
        "    prompt = f\"\"\"\n",
        "    Create a quiz on the topic: {topic}.\n",
        "    Include {num_questions} multiple-choice questions.\n",
        "    Each question should have 4 options and the correct answer clearly labeled.\n",
        "    Format the result as JSON like this:\n",
        "\n",
        "    [\n",
        "      {{\n",
        "        \"question\": \"What is...\",\n",
        "        \"options\": [\"A\", \"B\", \"C\", \"D\"],\n",
        "        \"answer\": \"B\"\n",
        "      }}\n",
        "    ]\n",
        "    \"\"\"\n",
        "\n",
        "    response = client.chat.completions.create(\n",
        "        model=\"gpt-3.5-turbo\",  # Or use \"gpt-4\" if you have access\n",
        "        messages=[{\"role\": \"user\", \"content\": prompt}],\n",
        "        temperature=0.7\n",
        "    )\n",
        "\n",
        "    content = response.choices[0].message.content\n",
        "\n",
        "    try:\n",
        "        return json.loads(content)\n",
        "    except json.JSONDecodeError:\n",
        "        print(\"⚠️ Could not parse JSON. Here's what I got:\")\n",
        "        print(content)\n",
        "        return []\n"
      ]
    },
    {
      "cell_type": "code",
      "execution_count": null,
      "metadata": {
        "colab": {
          "base_uri": "https://localhost:8080/"
        },
        "id": "ehakHtAFjsbt",
        "outputId": "bc27d416-37d9-45e6-a6ee-3140d4a6c965"
      },
      "outputs": [
        {
          "name": "stdout",
          "output_type": "stream",
          "text": [
            "\n",
            "Enter topic and number of questions (e.g., 'Python,5'): Data Science, 1\n",
            "\n",
            "📘 Quiz on: Data Science\n",
            "\n",
            "Q1: What is the main goal of data science?\n",
            "- A. To analyze historical data\n",
            "- B. To extract insights and knowledge from data\n",
            "- C. To create new data\n",
            "- D. To store data in a database\n",
            "✅ Answer: B\n"
          ]
        }
      ],
      "source": [
        "while True:\n",
        "    user_input = input(\"\\nEnter topic and number of questions (e.g., 'Python,5'): \")\n",
        "\n",
        "    if ',' not in user_input:\n",
        "        print(\"❌ Please use the correct format (e.g., 'Topic,5')\")\n",
        "        continue\n",
        "\n",
        "    topic, num = user_input.split(\",\", 1)\n",
        "    topic = topic.strip()\n",
        "    try:\n",
        "        num_questions = int(num.strip())\n",
        "    except ValueError:\n",
        "        print(\"❌ Number of questions must be a number.\")\n",
        "        continue\n",
        "\n",
        "    quiz = generate_quiz_gpt(topic, num_questions)\n",
        "\n",
        "    if quiz:\n",
        "        print(f\"\\n📘 Quiz on: {topic}\")\n",
        "        for idx, q in enumerate(quiz, 1):\n",
        "            print(f\"\\nQ{idx}: {q['question']}\")\n",
        "            for opt in q['options']:\n",
        "                print(f\"- {opt}\")\n",
        "            print(f\"✅ Answer: {q['answer']}\")\n",
        "    else:\n",
        "        print(f\"❌ Could not generate quiz for '{topic}'\")\n",
        "\n",
        "    again = input(\"\\nDo you want to add another topic? (yes/no): \").strip().lower()\n",
        "    if again != \"yes\":\n",
        "        print(\"\\n✅ Quiz generation complete.\")\n",
        "        break\n"
      ]
    }
  ],
  "metadata": {
    "colab": {
      "provenance": []
    },
    "kernelspec": {
      "display_name": "Python 3",
      "name": "python3"
    },
    "language_info": {
      "name": "python"
    }
  },
  "nbformat": 4,
  "nbformat_minor": 0
}
