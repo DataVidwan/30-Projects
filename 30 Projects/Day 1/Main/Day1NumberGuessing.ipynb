{
  "nbformat": 4,
  "nbformat_minor": 0,
  "metadata": {
    "colab": {
      "provenance": []
    },
    "kernelspec": {
      "name": "python3",
      "display_name": "Python 3"
    },
    "language_info": {
      "name": "python"
    }
  },
  "cells": [
    {
      "cell_type": "code",
      "execution_count": null,
      "metadata": {
        "colab": {
          "base_uri": "https://localhost:8080/"
        },
        "id": "uhnKERHYzaAk",
        "outputId": "e78a2f2d-da58-4450-cbb5-600133159da7"
      },
      "outputs": [
        {
          "output_type": "stream",
          "name": "stdout",
          "text": [
            "Guess a number between 1 and 10: 5\n",
            "Too low! The number was 7\n"
          ]
        }
      ],
      "source": [
        "import random\n",
        "\n",
        "# Step 1: Generate a random number between 1 and 10\n",
        "secret_number = random.randint(1, 10)\n",
        "\n",
        "# Step 2: Ask user for a guess\n",
        "guess = int(input(\"Guess a number between 1 and 10: \"))\n",
        "\n",
        "# Step 3: Check the guess\n",
        "if guess == secret_number:\n",
        "    print(\"Congratulations! You guessed it right.\")\n",
        "elif guess < secret_number:\n",
        "    print(\"Too low! The number was\", secret_number)\n",
        "else:\n",
        "    print(\"Too high! The number was\", secret_number)\n"
      ]
    },
    {
      "cell_type": "code",
      "source": [],
      "metadata": {
        "id": "972U8jufz6We"
      },
      "execution_count": null,
      "outputs": []
    }
  ]
}