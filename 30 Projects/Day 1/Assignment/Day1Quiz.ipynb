{
  "nbformat": 4,
  "nbformat_minor": 0,
  "metadata": {
    "colab": {
      "provenance": []
    },
    "kernelspec": {
      "name": "python3",
      "display_name": "Python 3"
    },
    "language_info": {
      "name": "python"
    }
  },
  "cells": [
    {
      "cell_type": "code",
      "execution_count": null,
      "metadata": {
        "colab": {
          "base_uri": "https://localhost:8080/"
        },
        "id": "bvYPPToz5pEz",
        "outputId": "d5d51d0c-5f4e-43ad-a079-2323e7d671ce"
      },
      "outputs": [
        {
          "output_type": "stream",
          "name": "stdout",
          "text": [
            "What is the capital of France?\n",
            "Your answer: Paris\n",
            "Correct!\n",
            "What is 5 + 3?\n",
            "Your answer: 8\n",
            "Correct!\n",
            "How many continents are there on Earth?\n",
            "Your answer: 8\n",
            "Oops! The correct answer is 7.\n"
          ]
        }
      ],
      "source": [
        "# Question 1\n",
        "print(\"What is the capital of France?\")\n",
        "answer1 = input(\"Your answer: \")\n",
        "if answer1 == \"Paris\":\n",
        "    print(\"Correct!\")\n",
        "else:\n",
        "    print(\"Oops! The correct answer is Paris.\")\n",
        "\n",
        "# Question 2\n",
        "print(\"What is 5 + 3?\")\n",
        "answer2 = input(\"Your answer: \")\n",
        "if answer2 == \"8\":\n",
        "    print(\"Correct!\")\n",
        "else:\n",
        "    print(\"Oops! The correct answer is 8.\")\n",
        "\n",
        "# Question 3\n",
        "print(\"How many continents are there on Earth?\")\n",
        "answer3 = input(\"Your answer: \")\n",
        "if answer3 == \"7\":\n",
        "    print(\"Correct!\")\n",
        "else:\n",
        "    print(\"Oops! The correct answer is 7.\")\n"
      ]
    }
  ]
}