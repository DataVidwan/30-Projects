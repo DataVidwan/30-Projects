{
  "nbformat": 4,
  "nbformat_minor": 0,
  "metadata": {
    "colab": {
      "provenance": []
    },
    "kernelspec": {
      "name": "python3",
      "display_name": "Python 3"
    },
    "language_info": {
      "name": "python"
    }
  },
  "cells": [
    {
      "cell_type": "code",
      "execution_count": 1,
      "metadata": {
        "colab": {
          "base_uri": "https://localhost:8080/"
        },
        "id": "bh5f11EC13es",
        "outputId": "d83172d4-f19a-4549-db89-b596aecf6dc0"
      },
      "outputs": [
        {
          "output_type": "stream",
          "name": "stdout",
          "text": [
            "Enter a number: 3\n",
            "3 is Odd.\n"
          ]
        }
      ],
      "source": [
        "# Odd-Even Checker\n",
        "def odd_even_checker():\n",
        "    num = int(input(\"Enter a number: \"))\n",
        "    if num % 2 == 0:\n",
        "        print(f\"{num} is Even.\")\n",
        "    else:\n",
        "        print(f\"{num} is Odd.\")\n",
        "\n",
        "odd_even_checker()\n"
      ]
    },
    {
      "cell_type": "code",
      "source": [
        "# Pattern Generator (Right-Angled Triangle using *)\n",
        "def pattern_generator():\n",
        "    rows = int(input(\"Enter the number of rows for the pattern: \"))\n",
        "    for i in range(1, rows + 1):\n",
        "        print(\"*\" * i)\n",
        "\n",
        "pattern_generator()"
      ],
      "metadata": {
        "colab": {
          "base_uri": "https://localhost:8080/"
        },
        "id": "WGOSYywE4YFQ",
        "outputId": "585a29f4-f518-48e2-bbbf-a544b7e44abc"
      },
      "execution_count": 6,
      "outputs": [
        {
          "output_type": "stream",
          "name": "stdout",
          "text": [
            "Enter the number of rows for the pattern: 5\n",
            "*\n",
            "**\n",
            "***\n",
            "****\n",
            "*****\n"
          ]
        }
      ]
    }
  ]
}