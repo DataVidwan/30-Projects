{
  "nbformat": 4,
  "nbformat_minor": 0,
  "metadata": {
    "colab": {
      "provenance": []
    },
    "kernelspec": {
      "name": "python3",
      "display_name": "Python 3"
    },
    "language_info": {
      "name": "python"
    }
  },
  "cells": [
    {
      "cell_type": "code",
      "execution_count": 1,
      "metadata": {
        "id": "_N4FkweFOuT-"
      },
      "outputs": [],
      "source": [
        "import os\n",
        "import pandas as pd\n",
        "\n",
        "# Make folder if not exists\n",
        "os.makedirs('/content/librarymanagementsystem', exist_ok=True)\n"
      ]
    },
    {
      "cell_type": "code",
      "source": [
        "# Book class\n",
        "class Book:\n",
        "    def __init__(self, title, author, isbn):\n",
        "        self.title = title\n",
        "        self.author = author\n",
        "        self.isbn = isbn\n",
        "\n",
        "# Member class\n",
        "class Member:\n",
        "    def __init__(self, name, member_id, contact):\n",
        "        self.name = name\n",
        "        self.member_id = member_id\n",
        "        self.contact = contact\n",
        "\n",
        "# Library Management System class\n",
        "class LibraryManagementSystem:\n",
        "    def __init__(self):\n",
        "        self.books = []\n",
        "        self.members = []\n",
        "\n",
        "    def add_book(self, book):\n",
        "        self.books.append(book)\n",
        "\n",
        "    def add_member(self, member):\n",
        "        self.members.append(member)\n",
        "\n",
        "    def display_all_books(self):\n",
        "        if not self.books:\n",
        "            print(\"No books found.\")\n",
        "        for b in self.books:\n",
        "            print(f\"{b.title}, by {b.author}, ISBN: {b.isbn}\")\n",
        "\n",
        "    def display_all_members(self):\n",
        "        if not self.members:\n",
        "            print(\"No members found.\")\n",
        "        for m in self.members:\n",
        "            print(f\"{m.name}, ID: {m.member_id}, Contact: {m.contact}\")\n",
        "\n",
        "    def save_books_to_file(self):\n",
        "        data = [{'Title': b.title, 'Author': b.author, 'ISBN': b.isbn} for b in self.books]\n",
        "        df = pd.DataFrame(data)\n",
        "        df.to_csv('/content/librarymanagementsystem/books.csv', index=False)\n",
        "\n",
        "    def save_members_to_file(self):\n",
        "        data = [{'Name': m.name, 'Member ID': m.member_id, 'Contact': m.contact} for m in self.members]\n",
        "        df = pd.DataFrame(data)\n",
        "        df.to_csv('/content/librarymanagementsystem/members.csv', index=False)\n"
      ],
      "metadata": {
        "id": "Y886LLE5O2jY"
      },
      "execution_count": 2,
      "outputs": []
    },
    {
      "cell_type": "code",
      "source": [
        "def add_book_manually(lms):\n",
        "    title = input(\"Enter book title: \")\n",
        "    author = input(\"Enter book author: \")\n",
        "    isbn = input(\"Enter book ISBN: \")\n",
        "    book = Book(title, author, isbn)\n",
        "    lms.add_book(book)\n",
        "    lms.save_books_to_file()\n",
        "    print(f\"Book '{title}' added successfully!\")\n",
        "\n",
        "def add_member_manually(lms):\n",
        "    name = input(\"Enter member's name: \")\n",
        "    member_id = input(\"Enter member ID: \")\n",
        "    contact = input(\"Enter member's contact: \")\n",
        "    member = Member(name, member_id, contact)\n",
        "    lms.add_member(member)\n",
        "    lms.save_members_to_file()\n",
        "    print(f\"Member '{name}' added successfully!\")\n"
      ],
      "metadata": {
        "id": "O3H40jrnO5c9"
      },
      "execution_count": 3,
      "outputs": []
    },
    {
      "cell_type": "code",
      "source": [
        "# Create system object\n",
        "lms = LibraryManagementSystem()\n",
        "\n",
        "# Menu loop\n",
        "while True:\n",
        "    print(\"\\n--- Library Management System ---\")\n",
        "    print(\"1. Display All Books\")\n",
        "    print(\"2. Display All Members\")\n",
        "    print(\"3. Add Book\")\n",
        "    print(\"4. Add Member\")\n",
        "    print(\"5. Exit\")\n",
        "\n",
        "    choice = input(\"Enter choice: \")\n",
        "\n",
        "    if choice == '1':\n",
        "        lms.display_all_books()\n",
        "    elif choice == '2':\n",
        "        lms.display_all_members()\n",
        "    elif choice == '3':\n",
        "        add_book_manually(lms)\n",
        "    elif choice == '4':\n",
        "        add_member_manually(lms)\n",
        "    elif choice == '5':\n",
        "        print(\"Goodbye!\")\n",
        "        break\n",
        "    else:\n",
        "        print(\"Invalid choice.\")\n"
      ],
      "metadata": {
        "colab": {
          "base_uri": "https://localhost:8080/"
        },
        "id": "Gvu3mbQDO89u",
        "outputId": "494249b3-325e-4c28-b4ed-0723d2c1b5b9"
      },
      "execution_count": 4,
      "outputs": [
        {
          "output_type": "stream",
          "name": "stdout",
          "text": [
            "\n",
            "--- Library Management System ---\n",
            "1. Display All Books\n",
            "2. Display All Members\n",
            "3. Add Book\n",
            "4. Add Member\n",
            "5. Exit\n",
            "Enter choice: 3\n",
            "Enter book title: To Good To Be True\n",
            "Enter book author: Prajakta Koli\n",
            "Enter book ISBN: 1234\n",
            "Book 'To Good To Be True' added successfully!\n",
            "\n",
            "--- Library Management System ---\n",
            "1. Display All Books\n",
            "2. Display All Members\n",
            "3. Add Book\n",
            "4. Add Member\n",
            "5. Exit\n",
            "Enter choice: Neha Mehta\n",
            "Invalid choice.\n",
            "\n",
            "--- Library Management System ---\n",
            "1. Display All Books\n",
            "2. Display All Members\n",
            "3. Add Book\n",
            "4. Add Member\n",
            "5. Exit\n",
            "Enter choice: 4\n",
            "Enter member's name: Neha Mehta\n",
            "Enter member ID: 01\n",
            "Enter member's contact: 1234567890\n",
            "Member 'Neha Mehta' added successfully!\n",
            "\n",
            "--- Library Management System ---\n",
            "1. Display All Books\n",
            "2. Display All Members\n",
            "3. Add Book\n",
            "4. Add Member\n",
            "5. Exit\n",
            "Enter choice: 5\n",
            "Goodbye!\n"
          ]
        }
      ]
    }
  ]
}