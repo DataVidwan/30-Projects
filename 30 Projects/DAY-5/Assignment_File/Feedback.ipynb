{
  "nbformat": 4,
  "nbformat_minor": 0,
  "metadata": {
    "colab": {
      "provenance": []
    },
    "kernelspec": {
      "name": "python3",
      "display_name": "Python 3"
    },
    "language_info": {
      "name": "python"
    }
  },
  "cells": [
    {
      "cell_type": "code",
      "execution_count": 2,
      "metadata": {
        "colab": {
          "base_uri": "https://localhost:8080/"
        },
        "id": "a2i4RrHLHZI_",
        "outputId": "28febe20-98e2-4bdb-afdd-d3d45d2b1230"
      },
      "outputs": [
        {
          "output_type": "stream",
          "name": "stdout",
          "text": [
            "Please enter your feedback: Hello!!\n",
            "✅ Your feedback has been saved! Thank you.\n"
          ]
        }
      ],
      "source": [
        "# Ask for user feedback\n",
        "feedback = input(\"Please enter your feedback: \")\n",
        "\n",
        "# Open a file in append mode\n",
        "with open(\"user_feedback.txt\", \"a\") as file:\n",
        "    file.write(feedback + \"\\n\")\n",
        "\n",
        "print(\"✅ Your feedback has been saved! Thank you.\")\n",
        "\n"
      ]
    }
  ]
}