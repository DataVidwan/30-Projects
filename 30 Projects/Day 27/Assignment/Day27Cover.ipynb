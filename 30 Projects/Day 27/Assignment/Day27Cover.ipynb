{
  "nbformat": 4,
  "nbformat_minor": 0,
  "metadata": {
    "colab": {
      "provenance": []
    },
    "kernelspec": {
      "name": "python3",
      "display_name": "Python 3"
    },
    "language_info": {
      "name": "python"
    }
  },
  "cells": [
    {
      "cell_type": "code",
      "execution_count": null,
      "metadata": {
        "colab": {
          "base_uri": "https://localhost:8080/"
        },
        "id": "NxhUAodLSUmt",
        "outputId": "2420b987-78f6-4d24-ae2a-fece8dfa6406"
      },
      "outputs": [
        {
          "name": "stdout",
          "output_type": "stream",
          "text": [
            "Enter your full name: Aditi \n",
            "Enter your email: aditi@gmail.com\n",
            "Enter your phone number: 000000000\n",
            "Enter the recipient's name (e.g., Hiring Manager): Jayesh\n",
            "Enter the company name: ABC Corporation\n",
            "Enter the job role you're applying for: Software Engineer\n",
            "Briefly describe your background/experience: Completed BTech. and worked as an intern for 6 months at XYZ Corporation. Proficient in data science and artificial inteliigence concepts.\n",
            "Why are you a good fit for this job?: I saw your listing on Linkedln and am excited because this is exactly the job that I’ve been looking for to showcase my skills. In my current role, i have made impactful results by providing comprehensive tech support. So, I would be a great addition to your team and will ensure to work hard.\n",
            "Enter a closing statement (e.g., Looking forward to hearing from you): Thank you for considering my application. I am eager to bring my skills and passion for excellence to your esteemed team.\n"
          ]
        }
      ],
      "source": [
        "# Cover Letter Input Collection\n",
        "\n",
        "your_name = input(\"Enter your full name: \")\n",
        "your_email = input(\"Enter your email: \")\n",
        "your_phone = input(\"Enter your phone number: \")\n",
        "recipient_name = input(\"Enter the recipient's name (e.g., Hiring Manager): \")\n",
        "company_name = input(\"Enter the company name: \")\n",
        "job_role = input(\"Enter the job role you're applying for: \")\n",
        "your_background = input(\"Briefly describe your background/experience: \")\n",
        "why_you = input(\"Why are you a good fit for this job?: \")\n",
        "closing_statement = input(\"Enter a closing statement (e.g., Looking forward to hearing from you): \")\n"
      ]
    },
    {
      "cell_type": "code",
      "source": [
        "!pip install reportlab"
      ],
      "metadata": {
        "colab": {
          "base_uri": "https://localhost:8080/"
        },
        "id": "_Bad3NYtUnjh",
        "outputId": "526e8e97-b067-4e3b-b95d-5ab0f5aff38a"
      },
      "execution_count": null,
      "outputs": [
        {
          "output_type": "stream",
          "name": "stdout",
          "text": [
            "Collecting reportlab\n",
            "  Downloading reportlab-4.4.0-py3-none-any.whl.metadata (1.8 kB)\n",
            "Requirement already satisfied: pillow>=9.0.0 in /usr/local/lib/python3.11/dist-packages (from reportlab) (11.1.0)\n",
            "Requirement already satisfied: chardet in /usr/local/lib/python3.11/dist-packages (from reportlab) (5.2.0)\n",
            "Downloading reportlab-4.4.0-py3-none-any.whl (2.0 MB)\n",
            "\u001b[2K   \u001b[90m━━━━━━━━━━━━━━━━━━━━━━━━━━━━━━━━━━━━━━━━\u001b[0m \u001b[32m2.0/2.0 MB\u001b[0m \u001b[31m30.1 MB/s\u001b[0m eta \u001b[36m0:00:00\u001b[0m\n",
            "\u001b[?25hInstalling collected packages: reportlab\n",
            "Successfully installed reportlab-4.4.0\n"
          ]
        }
      ]
    },
    {
      "cell_type": "code",
      "source": [
        "from reportlab.lib.pagesizes import LETTER\n",
        "from reportlab.pdfgen import canvas\n",
        "from reportlab.platypus import Paragraph, Frame\n",
        "from reportlab.lib.styles import getSampleStyleSheet\n",
        "from reportlab.lib import colors\n",
        "from datetime import datetime\n",
        "\n",
        "# Create the canvas\n",
        "file_name = \"My_Cover_Letter.pdf\"\n",
        "c = canvas.Canvas(file_name, pagesize=LETTER)\n",
        "width, height = LETTER\n",
        "\n",
        "# Position variables\n",
        "margin = 50\n",
        "line_height = 15\n",
        "y = height - margin\n",
        "\n",
        "# Sample data (replace with variables as needed)\n",
        "your_name = \"Aditi\"\n",
        "job_role = \"Software Engineer\"\n",
        "your_phone = \"0000000000\"\n",
        "your_email = \"aditi@gmail.com\"\n",
        "recipient_name = \"Jayesh\"\n",
        "company_name = \"ABC Corporation\"\n",
        "your_background = \"Completed BTech. and worked as an intern for 6 months at XYZ Corporation. Proficient in data science and artificial intelligence.\"\n",
        "why_you = \"I saw your listing on LinkedIn and am excited because this is exactly the job that I’ve been looking for to showcase my skills.\"\n",
        "closing_statement = \"Thank you for considering my application. I am eager to bring my skills and passion for excellence to your esteemed team.\"\n",
        "\n",
        "# Header - Your Name\n",
        "c.setFont(\"Helvetica-Bold\", 22)\n",
        "c.drawString(margin, y, your_name.upper())\n",
        "y -= line_height * 1.5\n",
        "\n",
        "# Subheader - Job Title or Identity\n",
        "c.setFont(\"Helvetica\", 13)\n",
        "c.drawString(margin, y, job_role.title())\n",
        "y -= line_height * 2\n",
        "\n",
        "# Contact Info - Right side\n",
        "c.setFont(\"Helvetica\", 11)\n",
        "c.drawRightString(width - margin, height - margin, your_phone)\n",
        "c.drawRightString(width - margin, height - margin - line_height, your_email)\n",
        "c.drawRightString(width - margin, height - margin - 2*line_height, \"123 Your Address, Your City\")  # Static for now\n",
        "\n",
        "# Line break\n",
        "y -= line_height * 0.5\n",
        "c.line(margin, y, width - margin, y)\n",
        "y -= line_height * 1.5\n",
        "\n",
        "# Date\n",
        "c.setFont(\"Helvetica-Oblique\", 11)\n",
        "c.drawString(margin, y, datetime.now().strftime(\"%d %B %Y\"))\n",
        "y -= line_height * 2\n",
        "\n",
        "# Recipient Section\n",
        "c.setFont(\"Helvetica\", 11)\n",
        "c.drawString(margin, y, f\"{recipient_name}\")\n",
        "c.drawString(margin, y - line_height, f\"Hiring Manager, {company_name}\")\n",
        "c.drawString(margin, y - 2*line_height, \"123 Company St., Company City\")  # Example\n",
        "y -= line_height * 4\n",
        "\n",
        "# Subject Line\n",
        "c.setFont(\"Helvetica-Bold\", 12)\n",
        "c.drawString(margin, y, f\"JOB REFERENCE: {job_role.upper()}\")\n",
        "y -= line_height * 2\n",
        "\n",
        "# Greeting\n",
        "c.setFont(\"Helvetica\", 11)\n",
        "c.drawString(margin, y, \"Dear \" + recipient_name.split()[0] + \",\")\n",
        "y -= line_height * 2\n",
        "\n",
        "# === WRAPPED BODY TEXT USING Paragraph ===\n",
        "styles = getSampleStyleSheet()\n",
        "styleN = styles['Normal']\n",
        "\n",
        "body_text = f\"\"\"\n",
        "{your_background}<br/><br/>\n",
        "{why_you}<br/><br/>\n",
        "{closing_statement}\n",
        "\"\"\"\n",
        "para = Paragraph(body_text, styleN)\n",
        "\n",
        "# Create a frame to insert the wrapped paragraph\n",
        "frame = Frame(margin, 120, width - 2 * margin, y - 120)\n",
        "frame.addFromList([para], c)\n",
        "\n",
        "# Signature\n",
        "c.drawString(margin, 100, \"Sincerely,\")\n",
        "c.drawString(margin, 80, your_name)\n",
        "\n",
        "# Save the PDF\n",
        "c.save()\n",
        "print(\"✅ Cover letter saved as 'My_Cover_Letter.pdf'\")\n"
      ],
      "metadata": {
        "colab": {
          "base_uri": "https://localhost:8080/"
        },
        "id": "b6BGx4aqWHXx",
        "outputId": "87af4248-37f6-4107-d9b0-896b3daa8348"
      },
      "execution_count": null,
      "outputs": [
        {
          "output_type": "stream",
          "name": "stdout",
          "text": [
            "✅ Cover letter saved as 'My_Cover_Letter.pdf'\n"
          ]
        }
      ]
    },
    {
      "cell_type": "code",
      "source": [
        "from google.colab import files\n",
        "files.download(\"My_Cover_Letter.pdf\")\n"
      ],
      "metadata": {
        "colab": {
          "base_uri": "https://localhost:8080/",
          "height": 17
        },
        "id": "uZ6IheWJWJAg",
        "outputId": "302d4c53-750b-4702-ad98-0f3ce9f6f5b1"
      },
      "execution_count": null,
      "outputs": [
        {
          "output_type": "display_data",
          "data": {
            "text/plain": [
              "<IPython.core.display.Javascript object>"
            ],
            "application/javascript": [
              "\n",
              "    async function download(id, filename, size) {\n",
              "      if (!google.colab.kernel.accessAllowed) {\n",
              "        return;\n",
              "      }\n",
              "      const div = document.createElement('div');\n",
              "      const label = document.createElement('label');\n",
              "      label.textContent = `Downloading \"${filename}\": `;\n",
              "      div.appendChild(label);\n",
              "      const progress = document.createElement('progress');\n",
              "      progress.max = size;\n",
              "      div.appendChild(progress);\n",
              "      document.body.appendChild(div);\n",
              "\n",
              "      const buffers = [];\n",
              "      let downloaded = 0;\n",
              "\n",
              "      const channel = await google.colab.kernel.comms.open(id);\n",
              "      // Send a message to notify the kernel that we're ready.\n",
              "      channel.send({})\n",
              "\n",
              "      for await (const message of channel.messages) {\n",
              "        // Send a message to notify the kernel that we're ready.\n",
              "        channel.send({})\n",
              "        if (message.buffers) {\n",
              "          for (const buffer of message.buffers) {\n",
              "            buffers.push(buffer);\n",
              "            downloaded += buffer.byteLength;\n",
              "            progress.value = downloaded;\n",
              "          }\n",
              "        }\n",
              "      }\n",
              "      const blob = new Blob(buffers, {type: 'application/binary'});\n",
              "      const a = document.createElement('a');\n",
              "      a.href = window.URL.createObjectURL(blob);\n",
              "      a.download = filename;\n",
              "      div.appendChild(a);\n",
              "      a.click();\n",
              "      div.remove();\n",
              "    }\n",
              "  "
            ]
          },
          "metadata": {}
        },
        {
          "output_type": "display_data",
          "data": {
            "text/plain": [
              "<IPython.core.display.Javascript object>"
            ],
            "application/javascript": [
              "download(\"download_4dd3a672-5939-470b-b34c-84720e81d43e\", \"My_Cover_Letter.pdf\", 2388)"
            ]
          },
          "metadata": {}
        }
      ]
    }
  ]
}