{
  "nbformat": 4,
  "nbformat_minor": 0,
  "metadata": {
    "colab": {
      "provenance": []
    },
    "kernelspec": {
      "name": "python3",
      "display_name": "Python 3"
    },
    "language_info": {
      "name": "python"
    }
  },
  "cells": [
    {
      "cell_type": "code",
      "source": [
        "# Resume Input Collection (with Certifications)\n",
        "\n",
        "name = input(\"Enter your full name: \")\n",
        "email = input(\"Enter your email address: \")\n",
        "phone = input(\"Enter your phone number: \")\n",
        "linkedin = input(\"Enter your LinkedIn profile URL (optional): \")\n",
        "summary = input(\"Write a short professional summary: \")\n",
        "skills = input(\"Enter your skills (comma-separated): \")\n",
        "education = input(\"Enter your education details: \")\n",
        "experience = input(\"Enter your work experience: \")\n",
        "certifications = input(\"Enter your certifications (comma-separated, optional): \")\n"
      ],
      "metadata": {
        "colab": {
          "base_uri": "https://localhost:8080/"
        },
        "id": "g7yc6yArAndk",
        "outputId": "935ed54c-4443-4326-fc49-f11f6b9d82e0"
      },
      "execution_count": null,
      "outputs": [
        {
          "name": "stdout",
          "output_type": "stream",
          "text": [
            "Enter your full name: Chauhan Devanshi\n",
            "Enter your email address: devanshi30@gmail.com\n",
            "Enter your phone number: 000000000\n",
            "Enter your LinkedIn profile URL (optional): \n",
            "Write a short professional summary: Currently pursuing final year engineering and working as an intern at the moment.\n",
            "Enter your skills (comma-separated): Artificial Intelligence, Machine Learning\n",
            "Enter your education details: Pursuing BTech. from Gujarat Technological University\n",
            "Enter your work experience: Working as an intern for 3 months\n",
            "Enter your certifications (comma-separated, optional): AI/ML\n"
          ]
        }
      ]
    },
    {
      "cell_type": "code",
      "source": [
        "!pip install reportlab\n"
      ],
      "metadata": {
        "colab": {
          "base_uri": "https://localhost:8080/"
        },
        "id": "bLaR9lkbCnqo",
        "outputId": "271f91f4-c864-4952-bb52-97cf27cad131"
      },
      "execution_count": null,
      "outputs": [
        {
          "output_type": "stream",
          "name": "stdout",
          "text": [
            "Collecting reportlab\n",
            "  Downloading reportlab-4.4.0-py3-none-any.whl.metadata (1.8 kB)\n",
            "Requirement already satisfied: pillow>=9.0.0 in /usr/local/lib/python3.11/dist-packages (from reportlab) (11.1.0)\n",
            "Requirement already satisfied: chardet in /usr/local/lib/python3.11/dist-packages (from reportlab) (5.2.0)\n",
            "Downloading reportlab-4.4.0-py3-none-any.whl (2.0 MB)\n",
            "\u001b[2K   \u001b[90m━━━━━━━━━━━━━━━━━━━━━━━━━━━━━━━━━━━━━━━━\u001b[0m \u001b[32m2.0/2.0 MB\u001b[0m \u001b[31m17.7 MB/s\u001b[0m eta \u001b[36m0:00:00\u001b[0m\n",
            "\u001b[?25hInstalling collected packages: reportlab\n",
            "Successfully installed reportlab-4.4.0\n"
          ]
        }
      ]
    },
    {
      "cell_type": "code",
      "source": [
        "from reportlab.lib.pagesizes import LETTER\n",
        "from reportlab.pdfgen import canvas\n",
        "from reportlab.lib import colors\n",
        "\n",
        "# Set up the PDF file\n",
        "file_name = \"Styled_Resume.pdf\"\n",
        "c = canvas.Canvas(file_name, pagesize=LETTER)\n",
        "width, height = LETTER\n",
        "\n",
        "# Styling Functions\n",
        "def section_title(y, title):\n",
        "    c.setFont(\"Helvetica-Bold\", 14)\n",
        "    c.setFillColor(colors.darkblue)\n",
        "    c.drawString(50, y, title)\n",
        "    c.setFillColor(colors.black)\n",
        "    return y - 20\n",
        "\n",
        "def add_paragraph(y, text, font_size=11, leading=15):\n",
        "    c.setFont(\"Helvetica\", font_size)\n",
        "    text_obj = c.beginText(50, y)\n",
        "    text_obj.setLeading(leading)\n",
        "    text_obj.textLines(text)\n",
        "    c.drawText(text_obj)\n",
        "    return y - (text.count('\\n') + 1) * leading\n",
        "\n",
        "# Header (Name & Contact)\n",
        "c.setFont(\"Helvetica-Bold\", 22)\n",
        "c.drawCentredString(width / 2, height - 50, name)\n",
        "\n",
        "c.setFont(\"Helvetica\", 12)\n",
        "c.drawCentredString(width / 2, height - 70, f\"{email} | {phone} | {linkedin}\")\n",
        "\n",
        "y = height - 100\n",
        "\n",
        "# Sections\n",
        "y = section_title(y, \"Professional Summary\")\n",
        "y = add_paragraph(y, summary)\n",
        "\n",
        "y = section_title(y, \"Skills\")\n",
        "y = add_paragraph(y, \"\\n\".join([f\"- {skill.strip()}\" for skill in skills.split(',')]))\n",
        "\n",
        "y = section_title(y, \"Education\")\n",
        "y = add_paragraph(y, education)\n",
        "\n",
        "y = section_title(y, \"Work Experience\")\n",
        "y = add_paragraph(y, experience)\n",
        "\n",
        "if certifications.strip():\n",
        "    y = section_title(y, \"Certifications\")\n",
        "    y = add_paragraph(y, \"\\n\".join([f\"- {cert.strip()}\" for cert in certifications.split(',')]))\n",
        "\n",
        "# Save and show message\n",
        "c.save()\n",
        "print(\"✅ Styled resume generated and saved as 'Styled_Resume.pdf'\")\n"
      ],
      "metadata": {
        "colab": {
          "base_uri": "https://localhost:8080/"
        },
        "id": "f0E8u8a0C0kM",
        "outputId": "3e68a44d-3372-4600-b842-a3e13d7a1df4"
      },
      "execution_count": null,
      "outputs": [
        {
          "output_type": "stream",
          "name": "stdout",
          "text": [
            "✅ Styled resume generated and saved as 'Styled_Resume.pdf'\n"
          ]
        }
      ]
    },
    {
      "cell_type": "code",
      "source": [
        "from google.colab import files\n",
        "files.download(\"Styled_Resume.pdf\")\n"
      ],
      "metadata": {
        "colab": {
          "base_uri": "https://localhost:8080/",
          "height": 17
        },
        "id": "a67R3rZ8C13j",
        "outputId": "99e4ecc4-18ed-4f00-d058-7913edf83698"
      },
      "execution_count": null,
      "outputs": [
        {
          "output_type": "display_data",
          "data": {
            "text/plain": [
              "<IPython.core.display.Javascript object>"
            ],
            "application/javascript": [
              "\n",
              "    async function download(id, filename, size) {\n",
              "      if (!google.colab.kernel.accessAllowed) {\n",
              "        return;\n",
              "      }\n",
              "      const div = document.createElement('div');\n",
              "      const label = document.createElement('label');\n",
              "      label.textContent = `Downloading \"${filename}\": `;\n",
              "      div.appendChild(label);\n",
              "      const progress = document.createElement('progress');\n",
              "      progress.max = size;\n",
              "      div.appendChild(progress);\n",
              "      document.body.appendChild(div);\n",
              "\n",
              "      const buffers = [];\n",
              "      let downloaded = 0;\n",
              "\n",
              "      const channel = await google.colab.kernel.comms.open(id);\n",
              "      // Send a message to notify the kernel that we're ready.\n",
              "      channel.send({})\n",
              "\n",
              "      for await (const message of channel.messages) {\n",
              "        // Send a message to notify the kernel that we're ready.\n",
              "        channel.send({})\n",
              "        if (message.buffers) {\n",
              "          for (const buffer of message.buffers) {\n",
              "            buffers.push(buffer);\n",
              "            downloaded += buffer.byteLength;\n",
              "            progress.value = downloaded;\n",
              "          }\n",
              "        }\n",
              "      }\n",
              "      const blob = new Blob(buffers, {type: 'application/binary'});\n",
              "      const a = document.createElement('a');\n",
              "      a.href = window.URL.createObjectURL(blob);\n",
              "      a.download = filename;\n",
              "      div.appendChild(a);\n",
              "      a.click();\n",
              "      div.remove();\n",
              "    }\n",
              "  "
            ]
          },
          "metadata": {}
        },
        {
          "output_type": "display_data",
          "data": {
            "text/plain": [
              "<IPython.core.display.Javascript object>"
            ],
            "application/javascript": [
              "download(\"download_66efc375-cecd-4c19-9922-02177258fe91\", \"Styled_Resume.pdf\", 1971)"
            ]
          },
          "metadata": {}
        }
      ]
    },
    {
      "cell_type": "code",
      "source": [
        "import openai\n",
        "import getpass\n",
        "\n",
        "# Securely enter your API key\n",
        "openai.api_key = getpass.getpass(\"Enter your OpenAI API key: \")\n",
        "\n",
        "# User Inputs\n",
        "name = input(\"Enter your full name: \")\n",
        "job_role = input(\"Enter your desired job role: \")\n",
        "education = input(\"Briefly describe your education: \")\n",
        "experience = input(\"Briefly describe your work experience: \")\n",
        "skills = input(\"List your key skills (comma-separated): \")\n",
        "projects = input(\"Mention any projects or achievements: \")\n",
        "certifications = input(\"List certifications (optional): \")\n",
        "\n",
        "# Construct prompt for GPT\n",
        "prompt = f\"\"\"\n",
        "Generate a professional resume for the following candidate:\n",
        "\n",
        "Name: {name}\n",
        "Job Role: {job_role}\n",
        "Education: {education}\n",
        "Experience: {experience}\n",
        "Skills: {skills}\n",
        "Projects: {projects}\n",
        "Certifications: {certifications}\n",
        "\n",
        "Please structure it with:\n",
        "- Professional Summary\n",
        "- Skills\n",
        "- Education\n",
        "- Work Experience\n",
        "- Projects\n",
        "- Certifications\n",
        "\n",
        "Return only the resume content, clean and ready for formatting into a PDF.\n",
        "\"\"\"\n"
      ],
      "metadata": {
        "id": "Y6UcocAkOztZ"
      },
      "execution_count": null,
      "outputs": []
    },
    {
      "cell_type": "code",
      "source": [
        "# Call the OpenAI API with your resume prompt\n",
        "response = openai.ChatCompletion.create(\n",
        "    model=\"gpt-3.5-turbo\",  # Use \"gpt-4\" if you have access\n",
        "    messages=[{\"role\": \"user\", \"content\": prompt}],\n",
        "    temperature=0.7,\n",
        "    max_tokens=1000\n",
        ")\n",
        "\n",
        "# Extract resume content\n",
        "resume_text = response['choices'][0]['message']['content']\n",
        "print(\"✅ AI-Generated Resume Content:\\n\")\n",
        "print(resume_text)\n"
      ],
      "metadata": {
        "id": "JdJMUT5gO1_P"
      },
      "execution_count": null,
      "outputs": []
    },
    {
      "cell_type": "code",
      "source": [
        "from reportlab.lib.pagesizes import LETTER\n",
        "from reportlab.pdfgen import canvas\n",
        "from reportlab.lib import colors\n",
        "\n",
        "# Create PDF file\n",
        "file_name = \"AI_Generated_Resume.pdf\"\n",
        "c = canvas.Canvas(file_name, pagesize=LETTER)\n",
        "width, height = LETTER\n",
        "\n",
        "# Add Name as title\n",
        "c.setFont(\"Helvetica-Bold\", 20)\n",
        "c.setFillColor(colors.darkblue)\n",
        "c.drawCentredString(width / 2, height - 50, name)\n",
        "\n",
        "# Set up resume text\n",
        "c.setFont(\"Helvetica\", 11)\n",
        "text = c.beginText(50, height - 90)\n",
        "text.setLeading(15)\n",
        "text.textLines(resume_text)\n",
        "c.drawText(text)\n",
        "\n",
        "# Save the PDF\n",
        "c.save()\n",
        "print(\"✅ Resume PDF saved as 'AI_Generated_Resume.pdf'\")\n"
      ],
      "metadata": {
        "id": "Tfz9v5aQO4Uj"
      },
      "execution_count": null,
      "outputs": []
    },
    {
      "cell_type": "code",
      "source": [
        "from google.colab import files\n",
        "files.download(\"AI_Generated_Resume.pdf\")\n"
      ],
      "metadata": {
        "id": "ZU6x0JQ4O6dR"
      },
      "execution_count": null,
      "outputs": []
    }
  ]
}