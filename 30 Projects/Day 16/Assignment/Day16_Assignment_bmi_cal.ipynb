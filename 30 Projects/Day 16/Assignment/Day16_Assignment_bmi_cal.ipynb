{
 "cells": [
  {
   "cell_type": "code",
   "execution_count": 1,
   "metadata": {
    "id": "XlrHIn0pFzXT"
   },
   "outputs": [],
   "source": [
    "def get_user_data():\n",
    "    print(\"Welcome to the BMI Calculator!\")\n",
    "    name = input(\"Enter your name: \")\n",
    "    weight = float(input(\"Enter your weight in kilograms (kg): \"))\n",
    "    height_cm = float(input(\"Enter your height in centimeters (cm): \"))\n",
    "    return name, weight, height_cm"
   ]
  },
  {
   "cell_type": "code",
   "execution_count": 2,
   "metadata": {
    "id": "Ai68tCCXHtFB"
   },
   "outputs": [],
   "source": [
    "def calculate_bmi(weight, height_cm):\n",
    "    height_m = height_cm / 100  # Convert cm to meters\n",
    "    bmi = weight / (height_m ** 2)\n",
    "    return round(bmi, 2)"
   ]
  },
  {
   "cell_type": "code",
   "execution_count": 3,
   "metadata": {
    "id": "XyJDxSRKHwa6"
   },
   "outputs": [],
   "source": [
    "def interpret_bmi(bmi):\n",
    "    if bmi < 18.5:\n",
    "        return \"Underweight\"\n",
    "    elif 18.5 <= bmi < 24.9:\n",
    "        return \"Normal weight\"\n",
    "    elif 25 <= bmi < 29.9:\n",
    "        return \"Overweight\"\n",
    "    else:\n",
    "        return \"Obese\""
   ]
  },
  {
   "cell_type": "code",
   "execution_count": 4,
   "metadata": {
    "id": "RsFg0PiJHyaX"
   },
   "outputs": [],
   "source": [
    "def display_result(name, bmi, category):\n",
    "    print(f\"\\n{name}, your BMI is: {bmi}\")\n",
    "    print(f\"Health Category: {category}\")"
   ]
  },
  {
   "cell_type": "code",
   "execution_count": 6,
   "metadata": {
    "colab": {
     "base_uri": "https://localhost:8080/"
    },
    "id": "-XujqtAMH5A6",
    "outputId": "014489b5-8465-4550-b4f3-631115a6655c"
   },
   "outputs": [
    {
     "name": "stdout",
     "output_type": "stream",
     "text": [
      "Welcome to the BMI Calculator!\n",
      "Enter your name: shivam\n",
      "Enter your weight in kilograms (kg): 70\n",
      "Enter your height in centimeters (cm): 165\n",
      "\n",
      "shivam, your BMI is: 25.71\n",
      "Health Category: Overweight\n"
     ]
    }
   ],
   "source": [
    "def main():\n",
    "    name, weight, height_cm = get_user_data()\n",
    "    bmi = calculate_bmi(weight, height_cm)\n",
    "    category = interpret_bmi(bmi)\n",
    "    display_result(name, bmi, category)\n",
    "\n",
    "# Run the program\n",
    "main()"
   ]
  },
  {
   "cell_type": "code",
   "execution_count": null,
   "metadata": {
    "id": "WPQscHHmH-CK"
   },
   "outputs": [],
   "source": []
  }
 ],
 "metadata": {
  "colab": {
   "provenance": []
  },
  "kernelspec": {
   "display_name": "Python 3 (ipykernel)",
   "language": "python",
   "name": "python3"
  },
  "language_info": {
   "codemirror_mode": {
    "name": "ipython",
    "version": 3
   },
   "file_extension": ".py",
   "mimetype": "text/x-python",
   "name": "python",
   "nbconvert_exporter": "python",
   "pygments_lexer": "ipython3",
   "version": "3.11.4"
  }
 },
 "nbformat": 4,
 "nbformat_minor": 1
}
